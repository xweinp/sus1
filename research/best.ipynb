{
 "cells": [
  {
   "cell_type": "code",
   "execution_count": 14,
   "id": "ea9bcde3",
   "metadata": {},
   "outputs": [],
   "source": [
    "import os, random\n",
    "\n",
    "import numpy as np\n",
    "import pandas as pd\n",
    "from PIL import Image, ImageOps\n",
    "from tqdm import tqdm\n",
    "\n",
    "import matplotlib.pyplot as plt\n",
    "\n",
    "import umap\n",
    "\n",
    "\n",
    "from sklearn.decomposition import PCA\n",
    "from sklearn.preprocessing import StandardScaler\n",
    "from sklearn.cluster import KMeans, AgglomerativeClustering, DBSCAN\n",
    "from sklearn.metrics import silhouette_score\n",
    "\n",
    "from numpy.lib.stride_tricks import sliding_window_view\n",
    "from skimage.feature import hog\n"
   ]
  },
  {
   "cell_type": "code",
   "execution_count": 15,
   "id": "29286a30",
   "metadata": {},
   "outputs": [],
   "source": [
    "def clusters_to_files(y, names):\n",
    "    clusters = {}\n",
    "    for i, name in enumerate(names):\n",
    "        yi = int(y[i])\n",
    "        if yi not in clusters:\n",
    "            clusters[yi] = []\n",
    "        clusters[yi].append(name)\n",
    "\n",
    "    # text file:\n",
    "\n",
    "    with open('clusters.txt', 'w') as f:\n",
    "        for cluster in clusters:\n",
    "            for name in clusters[cluster]:\n",
    "                f.write(f\"{name} \")\n",
    "            f.write(\"\\n\")\n",
    "    \n",
    "    # html file:\n",
    "\n",
    "    with open('clusters.html', 'w') as f:\n",
    "        for cluster in clusters:\n",
    "            for name in clusters[cluster]:\n",
    "                f.write(f\"<img src='training_samples/{name}'>\")\n",
    "            f.write(\"<HR>\")\n",
    "\n",
    "\n",
    "\n",
    "def center_image_by_centroid(img):\n",
    "    img = img.astype(float)\n",
    "    h, w = img.shape\n",
    "\n",
    "    # Współrzędne pikseli\n",
    "    y, x = np.indices((h, w))\n",
    "\n",
    "    # Oblicz środek masy\n",
    "    total = img.sum()\n",
    "    if total == 0:\n",
    "        return img.copy()\n",
    "    \n",
    "    cx = (x * img).sum() / total\n",
    "    cy = (y * img).sum() / total\n",
    "\n",
    "    # Gdzie powinien być środek\n",
    "    target_cx = w // 2\n",
    "    target_cy = h // 2\n",
    "\n",
    "    # Potrzebne przesunięcie\n",
    "    shift_x = int(round(target_cx - cx))\n",
    "    shift_y = int(round(target_cy - cy))\n",
    "\n",
    "    # Przesunięcie z użyciem np.roll\n",
    "    shifted = np.roll(img, shift=shift_y, axis=0)\n",
    "    shifted = np.roll(shifted, shift=shift_x, axis=1)\n",
    "\n",
    "    # Wyzeruj artefakty po rollu (piksele owinięte z drugiej strony)\n",
    "    if shift_y > 0:\n",
    "        shifted[:shift_y, :] = 0\n",
    "    elif shift_y < 0:\n",
    "        shifted[shift_y:, :] = 0\n",
    "\n",
    "    if shift_x > 0:\n",
    "        shifted[:, :shift_x] = 0\n",
    "    elif shift_x < 0:\n",
    "        shifted[:, shift_x:] = 0\n",
    "\n",
    "    return shifted\n",
    "\n",
    "def smooth_imgs(img: np.ndarray) -> np.ndarray:\n",
    "    if img.ndim != 2:\n",
    "        raise ValueError(\"Funkcja obsługuje tylko 2D macierze\")\n",
    "\n",
    "    # Stworzenie kopii, aby nie nadpisać oryginału\n",
    "    new_img = img.copy()\n",
    "\n",
    "    # Operacja tylko na wewnętrznych pikselach\n",
    "    new_img[1:-1, 1:-1] += 0.25 * (\n",
    "        img[2:, 1:-1] +     # img[i+1][j]\n",
    "        img[:-2, 1:-1] +    # img[i-1][j]\n",
    "        img[1:-1, 2:] +     # img[i][j+1]\n",
    "        img[1:-1, :-2]      # img[i][j-1]\n",
    "    )\n",
    "\n",
    "    return new_img\n",
    "\n",
    "# I transform image into a 1d array\n",
    "# I also add some features that I think can be very useful:\n",
    "# - width\n",
    "# - height\n",
    "# - the number of pixels in the image\n",
    "# - number of pixels with a certaing color (0, 255)\n",
    "# I also scale the image and apply dimentionality redciton\n",
    "def transform_image(image, max_x, max_y):\n",
    "    pad_x = max_x - image.shape[0]\n",
    "    pad_y = max_y - image.shape[1]\n",
    "    # pad with white pixels (0)\n",
    "    # add information about the number of pixels\n",
    "    extra_features = np.array([\n",
    "        image.shape[0],\n",
    "        image.shape[1],\n",
    "        image.shape[0] * image.shape[1],\n",
    "    ], dtype=np.float32)\n",
    "\n",
    "    image = np.pad(\n",
    "        image,\n",
    "        ((0, pad_x), (0, pad_y)),\n",
    "        mode='constant',\n",
    "        constant_values=0\n",
    "    )\n",
    "\n",
    "    image = center_image_by_centroid(image)\n",
    "    image = smooth_imgs(image)\n",
    "\n",
    "    return image.flatten(), extra_features"
   ]
  },
  {
   "cell_type": "markdown",
   "id": "fe7638b7",
   "metadata": {},
   "source": [
    "Wczytuję wszystkie training samples"
   ]
  },
  {
   "cell_type": "code",
   "execution_count": 16,
   "id": "de68b88d",
   "metadata": {},
   "outputs": [],
   "source": [
    "images = []\n",
    "image_names = []\n",
    "\n",
    "for filename in os.listdir('./training_samples'):\n",
    "    if filename.endswith('.png'):\n",
    "        # Read the image file\n",
    "        image_path = os.path.join('./training_samples', filename)\n",
    "        image = Image.open(image_path).convert('L') # Convert to grayscale\n",
    "        image = ImageOps.invert(image) # I want white pixels to be 0 and black pixels to be 255\n",
    "        images.append(np.array(image))\n",
    "        image_names.append(filename)\n",
    "\n",
    "\n",
    "# samples = random.sample(range(len(images)), 2000)\n",
    "# images, images_names = zip(*[(images[i], image_names[i]) for i in samples])\n",
    "\n",
    "max_x = max(image.shape[0] for image in images)\n",
    "max_y = max(image.shape[1] for image in images)\n",
    "\n",
    "X_b, X_extra = [], []\n",
    "for image in images:\n",
    "    x, x_extra = transform_image(image, max_x, max_y)\n",
    "    X_b.append(x)\n",
    "    X_extra.append(x_extra)"
   ]
  },
  {
   "cell_type": "markdown",
   "id": "f8a17ff4",
   "metadata": {},
   "source": [
    "Za dużo wymiarów. Może redukcja?"
   ]
  },
  {
   "cell_type": "code",
   "execution_count": 22,
   "id": "7a4d89ec",
   "metadata": {},
   "outputs": [
    {
     "name": "stderr",
     "output_type": "stream",
     "text": [
      "/home/jpniewski/studia/sus/sus1/pysus/lib/python3.12/site-packages/sklearn/utils/deprecation.py:151: FutureWarning: 'force_all_finite' was renamed to 'ensure_all_finite' in 1.6 and will be removed in 1.8.\n",
      "  warnings.warn(\n"
     ]
    }
   ],
   "source": [
    "from sklearn.manifold import Isomap\n",
    "from sklearn.preprocessing import PolynomialFeatures\n",
    "from sklearn.manifold import LocallyLinearEmbedding\n",
    "\n",
    "\n",
    "# For PCA we need to scale the data\n",
    "scaler = StandardScaler()\n",
    "X_b = scaler.fit_transform(X_b)\n",
    "\n",
    "\n",
    "tr = umap.UMAP(\n",
    "    n_components=25,\n",
    ")\n",
    "\n",
    "X_red = tr.fit_transform(X_b)\n",
    "\n",
    "\n",
    "X_red = np.concatenate((X_red, X_extra), axis=1)"
   ]
  },
  {
   "cell_type": "code",
   "execution_count": 23,
   "id": "2451eaa4",
   "metadata": {},
   "outputs": [],
   "source": [
    "def metric(X, k=3, squared=False):\n",
    "    X = np.asarray(X, dtype=np.float32)\n",
    "    \n",
    "    core = X[:, :-k]\n",
    "    last = X[:, -k:]\n",
    "    \n",
    "    X_sq = np.sum(core**2, axis=1)[:, None]\n",
    "    D_sq = X_sq + X_sq.T - 2 * np.dot(core, core.T)\n",
    "    np.maximum(D_sq, 0, out=D_sq)\n",
    "    euclid = D_sq if squared else np.sqrt(D_sq)\n",
    "    \n",
    "    l = last[:, None, :]\n",
    "    lj = last[None, :, :]\n",
    "    \n",
    "    r = np.square(np.maximum(l, lj) / np.minimum(l, lj))\n",
    "    R = np.prod(r, axis=2)\n",
    "    \n",
    "    return euclid + R"
   ]
  },
  {
   "cell_type": "code",
   "execution_count": 24,
   "id": "7257b2c4",
   "metadata": {},
   "outputs": [
    {
     "name": "stderr",
     "output_type": "stream",
     "text": [
      "100%|██████████| 70/70 [01:20<00:00,  1.15s/it]"
     ]
    },
    {
     "name": "stdout",
     "output_type": "stream",
     "text": [
      "Best silhouette score:  0.3784539\n",
      "Best number of clusters:  31\n"
     ]
    },
    {
     "name": "stderr",
     "output_type": "stream",
     "text": [
      "\n"
     ]
    },
    {
     "data": {
      "image/png": "[encoded data removed]",
      "text/plain": [
       "<Figure size 640x480 with 1 Axes>"
      ]
     },
     "metadata": {},
     "output_type": "display_data"
    }
   ],
   "source": [
    "mi, mx = 30, 100\n",
    "\n",
    "inertias = []\n",
    "silhouette_scores = []\n",
    "\n",
    "linkages = ['ward', 'complete', 'average', 'single']\n",
    "\n",
    "D = metric(X_red)\n",
    "\n",
    "for i in tqdm(range(mi, mx)):\n",
    "    ag = AgglomerativeClustering(\n",
    "        n_clusters=i, \n",
    "        linkage='average', \n",
    "        metric='precomputed'\n",
    "    )\n",
    "\n",
    "    y = ag.fit_predict(D)\n",
    "    silhouette_scores.append(silhouette_score(X_red, y))    \n",
    "\n",
    "print(\"Best silhouette score: \", max(silhouette_scores))\n",
    "print(\"Best number of clusters: \", silhouette_scores.index(max(silhouette_scores)) + mi)\n",
    "\n",
    "plt.plot(range(mi, mx), silhouette_scores)\n",
    "plt.title('Silhouette Score vs. Number of Clusters')\n",
    "plt.show()\n",
    "\n",
    "ag = AgglomerativeClustering(\n",
    "    n_clusters=np.argmax(silhouette_scores) + mi,\n",
    "    linkage='average',\n",
    "    metric='precomputed'\n",
    ")\n",
    "y = ag.fit_predict(D)\n",
    "clusters_to_files(y, image_names)"
   ]
  },
  {
   "cell_type": "code",
   "execution_count": 20,
   "id": "ccd92a3d",
   "metadata": {},
   "outputs": [],
   "source": [
    "clusters_to_files(y, image_names)"
   ]
  },
  {
   "cell_type": "code",
   "execution_count": 21,
   "id": "d482c2b1",
   "metadata": {},
   "outputs": [
    {
     "name": "stderr",
     "output_type": "stream",
     "text": [
      "  0%|          | 0/1 [00:07<?, ?it/s]\n"
     ]
    },
    {
     "ename": "KeyboardInterrupt",
     "evalue": "",
     "output_type": "error",
     "traceback": [
      "\u001b[31m---------------------------------------------------------------------------\u001b[39m",
      "\u001b[31mKeyboardInterrupt\u001b[39m                         Traceback (most recent call last)",
      "\u001b[36mCell\u001b[39m\u001b[36m \u001b[39m\u001b[32mIn[21]\u001b[39m\u001b[32m, line 13\u001b[39m\n\u001b[32m      5\u001b[39m \u001b[38;5;28;01mfor\u001b[39;00m i \u001b[38;5;129;01min\u001b[39;00m tqdm(\u001b[38;5;28mrange\u001b[39m(\u001b[32m80\u001b[39m, \u001b[32m81\u001b[39m)):\n\u001b[32m      6\u001b[39m     sc = SpectralClustering(\n\u001b[32m      7\u001b[39m         n_clusters=i,\n\u001b[32m      8\u001b[39m         affinity=\u001b[33m'\u001b[39m\u001b[33mprecomputed\u001b[39m\u001b[33m'\u001b[39m,\n\u001b[32m      9\u001b[39m         assign_labels=\u001b[33m'\u001b[39m\u001b[33mdiscretize\u001b[39m\u001b[33m'\u001b[39m,\n\u001b[32m     10\u001b[39m \n\u001b[32m     11\u001b[39m     )\n\u001b[32m---> \u001b[39m\u001b[32m13\u001b[39m     y = \u001b[43msc\u001b[49m\u001b[43m.\u001b[49m\u001b[43mfit_predict\u001b[49m\u001b[43m(\u001b[49m\u001b[43mD\u001b[49m\u001b[43m)\u001b[49m\n\u001b[32m     14\u001b[39m     silhouette_scores.append(silhouette_score(X_red, y))\n\u001b[32m     16\u001b[39m \u001b[38;5;28mprint\u001b[39m(\u001b[33m\"\u001b[39m\u001b[33mBest silhouette score: \u001b[39m\u001b[33m\"\u001b[39m, \u001b[38;5;28mmax\u001b[39m(silhouette_scores))\n",
      "\u001b[36mFile \u001b[39m\u001b[32m~/studia/sus/sus1/pysus/lib/python3.12/site-packages/sklearn/cluster/_spectral.py:793\u001b[39m, in \u001b[36mSpectralClustering.fit_predict\u001b[39m\u001b[34m(self, X, y)\u001b[39m\n\u001b[32m    771\u001b[39m \u001b[38;5;28;01mdef\u001b[39;00m\u001b[38;5;250m \u001b[39m\u001b[34mfit_predict\u001b[39m(\u001b[38;5;28mself\u001b[39m, X, y=\u001b[38;5;28;01mNone\u001b[39;00m):\n\u001b[32m    772\u001b[39m \u001b[38;5;250m    \u001b[39m\u001b[33;03m\"\"\"Perform spectral clustering on `X` and return cluster labels.\u001b[39;00m\n\u001b[32m    773\u001b[39m \n\u001b[32m    774\u001b[39m \u001b[33;03m    Parameters\u001b[39;00m\n\u001b[32m   (...)\u001b[39m\u001b[32m    791\u001b[39m \u001b[33;03m        Cluster labels.\u001b[39;00m\n\u001b[32m    792\u001b[39m \u001b[33;03m    \"\"\"\u001b[39;00m\n\u001b[32m--> \u001b[39m\u001b[32m793\u001b[39m     \u001b[38;5;28;01mreturn\u001b[39;00m \u001b[38;5;28;43msuper\u001b[39;49m\u001b[43m(\u001b[49m\u001b[43m)\u001b[49m\u001b[43m.\u001b[49m\u001b[43mfit_predict\u001b[49m\u001b[43m(\u001b[49m\u001b[43mX\u001b[49m\u001b[43m,\u001b[49m\u001b[43m \u001b[49m\u001b[43my\u001b[49m\u001b[43m)\u001b[49m\n",
      "\u001b[36mFile \u001b[39m\u001b[32m~/studia/sus/sus1/pysus/lib/python3.12/site-packages/sklearn/base.py:719\u001b[39m, in \u001b[36mClusterMixin.fit_predict\u001b[39m\u001b[34m(self, X, y, **kwargs)\u001b[39m\n\u001b[32m    696\u001b[39m \u001b[38;5;250m\u001b[39m\u001b[33;03m\"\"\"\u001b[39;00m\n\u001b[32m    697\u001b[39m \u001b[33;03mPerform clustering on `X` and returns cluster labels.\u001b[39;00m\n\u001b[32m    698\u001b[39m \n\u001b[32m   (...)\u001b[39m\u001b[32m    715\u001b[39m \u001b[33;03m    Cluster labels.\u001b[39;00m\n\u001b[32m    716\u001b[39m \u001b[33;03m\"\"\"\u001b[39;00m\n\u001b[32m    717\u001b[39m \u001b[38;5;66;03m# non-optimized default implementation; override when a better\u001b[39;00m\n\u001b[32m    718\u001b[39m \u001b[38;5;66;03m# method is possible for a given clustering algorithm\u001b[39;00m\n\u001b[32m--> \u001b[39m\u001b[32m719\u001b[39m \u001b[38;5;28;43mself\u001b[39;49m\u001b[43m.\u001b[49m\u001b[43mfit\u001b[49m\u001b[43m(\u001b[49m\u001b[43mX\u001b[49m\u001b[43m,\u001b[49m\u001b[43m \u001b[49m\u001b[43m*\u001b[49m\u001b[43m*\u001b[49m\u001b[43mkwargs\u001b[49m\u001b[43m)\u001b[49m\n\u001b[32m    720\u001b[39m \u001b[38;5;28;01mreturn\u001b[39;00m \u001b[38;5;28mself\u001b[39m.labels_\n",
      "\u001b[36mFile \u001b[39m\u001b[32m~/studia/sus/sus1/pysus/lib/python3.12/site-packages/sklearn/base.py:1389\u001b[39m, in \u001b[36m_fit_context.<locals>.decorator.<locals>.wrapper\u001b[39m\u001b[34m(estimator, *args, **kwargs)\u001b[39m\n\u001b[32m   1382\u001b[39m     estimator._validate_params()\n\u001b[32m   1384\u001b[39m \u001b[38;5;28;01mwith\u001b[39;00m config_context(\n\u001b[32m   1385\u001b[39m     skip_parameter_validation=(\n\u001b[32m   1386\u001b[39m         prefer_skip_nested_validation \u001b[38;5;129;01mor\u001b[39;00m global_skip_validation\n\u001b[32m   1387\u001b[39m     )\n\u001b[32m   1388\u001b[39m ):\n\u001b[32m-> \u001b[39m\u001b[32m1389\u001b[39m     \u001b[38;5;28;01mreturn\u001b[39;00m \u001b[43mfit_method\u001b[49m\u001b[43m(\u001b[49m\u001b[43mestimator\u001b[49m\u001b[43m,\u001b[49m\u001b[43m \u001b[49m\u001b[43m*\u001b[49m\u001b[43margs\u001b[49m\u001b[43m,\u001b[49m\u001b[43m \u001b[49m\u001b[43m*\u001b[49m\u001b[43m*\u001b[49m\u001b[43mkwargs\u001b[49m\u001b[43m)\u001b[49m\n",
      "\u001b[36mFile \u001b[39m\u001b[32m~/studia/sus/sus1/pysus/lib/python3.12/site-packages/sklearn/cluster/_spectral.py:745\u001b[39m, in \u001b[36mSpectralClustering.fit\u001b[39m\u001b[34m(self, X, y)\u001b[39m\n\u001b[32m    736\u001b[39m n_components = (\n\u001b[32m    737\u001b[39m     \u001b[38;5;28mself\u001b[39m.n_clusters \u001b[38;5;28;01mif\u001b[39;00m \u001b[38;5;28mself\u001b[39m.n_components \u001b[38;5;129;01mis\u001b[39;00m \u001b[38;5;28;01mNone\u001b[39;00m \u001b[38;5;28;01melse\u001b[39;00m \u001b[38;5;28mself\u001b[39m.n_components\n\u001b[32m    738\u001b[39m )\n\u001b[32m    739\u001b[39m \u001b[38;5;66;03m# We now obtain the real valued solution matrix to the\u001b[39;00m\n\u001b[32m    740\u001b[39m \u001b[38;5;66;03m# relaxed Ncut problem, solving the eigenvalue problem\u001b[39;00m\n\u001b[32m    741\u001b[39m \u001b[38;5;66;03m# L_sym x = lambda x  and recovering u = D^-1/2 x.\u001b[39;00m\n\u001b[32m    742\u001b[39m \u001b[38;5;66;03m# The first eigenvector is constant only for fully connected graphs\u001b[39;00m\n\u001b[32m    743\u001b[39m \u001b[38;5;66;03m# and should be kept for spectral clustering (drop_first = False)\u001b[39;00m\n\u001b[32m    744\u001b[39m \u001b[38;5;66;03m# See spectral_embedding documentation.\u001b[39;00m\n\u001b[32m--> \u001b[39m\u001b[32m745\u001b[39m maps = \u001b[43m_spectral_embedding\u001b[49m\u001b[43m(\u001b[49m\n\u001b[32m    746\u001b[39m \u001b[43m    \u001b[49m\u001b[38;5;28;43mself\u001b[39;49m\u001b[43m.\u001b[49m\u001b[43maffinity_matrix_\u001b[49m\u001b[43m,\u001b[49m\n\u001b[32m    747\u001b[39m \u001b[43m    \u001b[49m\u001b[43mn_components\u001b[49m\u001b[43m=\u001b[49m\u001b[43mn_components\u001b[49m\u001b[43m,\u001b[49m\n\u001b[32m    748\u001b[39m \u001b[43m    \u001b[49m\u001b[43meigen_solver\u001b[49m\u001b[43m=\u001b[49m\u001b[38;5;28;43mself\u001b[39;49m\u001b[43m.\u001b[49m\u001b[43meigen_solver\u001b[49m\u001b[43m,\u001b[49m\n\u001b[32m    749\u001b[39m \u001b[43m    \u001b[49m\u001b[43mrandom_state\u001b[49m\u001b[43m=\u001b[49m\u001b[43mrandom_state\u001b[49m\u001b[43m,\u001b[49m\n\u001b[32m    750\u001b[39m \u001b[43m    \u001b[49m\u001b[43meigen_tol\u001b[49m\u001b[43m=\u001b[49m\u001b[38;5;28;43mself\u001b[39;49m\u001b[43m.\u001b[49m\u001b[43meigen_tol\u001b[49m\u001b[43m,\u001b[49m\n\u001b[32m    751\u001b[39m \u001b[43m    \u001b[49m\u001b[43mdrop_first\u001b[49m\u001b[43m=\u001b[49m\u001b[38;5;28;43;01mFalse\u001b[39;49;00m\u001b[43m,\u001b[49m\n\u001b[32m    752\u001b[39m \u001b[43m\u001b[49m\u001b[43m)\u001b[49m\n\u001b[32m    753\u001b[39m \u001b[38;5;28;01mif\u001b[39;00m \u001b[38;5;28mself\u001b[39m.verbose:\n\u001b[32m    754\u001b[39m     \u001b[38;5;28mprint\u001b[39m(\u001b[33mf\u001b[39m\u001b[33m\"\u001b[39m\u001b[33mComputing label assignment using \u001b[39m\u001b[38;5;132;01m{\u001b[39;00m\u001b[38;5;28mself\u001b[39m.assign_labels\u001b[38;5;132;01m}\u001b[39;00m\u001b[33m\"\u001b[39m)\n",
      "\u001b[36mFile \u001b[39m\u001b[32m~/studia/sus/sus1/pysus/lib/python3.12/site-packages/sklearn/manifold/_spectral_embedding.py:372\u001b[39m, in \u001b[36m_spectral_embedding\u001b[39m\u001b[34m(adjacency, n_components, eigen_solver, random_state, eigen_tol, norm_laplacian, drop_first)\u001b[39m\n\u001b[32m    368\u001b[39m v0 = _init_arpack_v0(laplacian.shape[\u001b[32m0\u001b[39m], random_state)\n\u001b[32m    369\u001b[39m laplacian = check_array(\n\u001b[32m    370\u001b[39m     laplacian, accept_sparse=\u001b[33m\"\u001b[39m\u001b[33mcsr\u001b[39m\u001b[33m\"\u001b[39m, accept_large_sparse=\u001b[38;5;28;01mFalse\u001b[39;00m\n\u001b[32m    371\u001b[39m )\n\u001b[32m--> \u001b[39m\u001b[32m372\u001b[39m _, diffusion_map = \u001b[43meigsh\u001b[49m\u001b[43m(\u001b[49m\n\u001b[32m    373\u001b[39m \u001b[43m    \u001b[49m\u001b[43mlaplacian\u001b[49m\u001b[43m,\u001b[49m\u001b[43m \u001b[49m\u001b[43mk\u001b[49m\u001b[43m=\u001b[49m\u001b[43mn_components\u001b[49m\u001b[43m,\u001b[49m\u001b[43m \u001b[49m\u001b[43msigma\u001b[49m\u001b[43m=\u001b[49m\u001b[32;43m1.0\u001b[39;49m\u001b[43m,\u001b[49m\u001b[43m \u001b[49m\u001b[43mwhich\u001b[49m\u001b[43m=\u001b[49m\u001b[33;43m\"\u001b[39;49m\u001b[33;43mLM\u001b[39;49m\u001b[33;43m\"\u001b[39;49m\u001b[43m,\u001b[49m\u001b[43m \u001b[49m\u001b[43mtol\u001b[49m\u001b[43m=\u001b[49m\u001b[43mtol\u001b[49m\u001b[43m,\u001b[49m\u001b[43m \u001b[49m\u001b[43mv0\u001b[49m\u001b[43m=\u001b[49m\u001b[43mv0\u001b[49m\n\u001b[32m    374\u001b[39m \u001b[43m\u001b[49m\u001b[43m)\u001b[49m\n\u001b[32m    375\u001b[39m embedding = diffusion_map.T[n_components::-\u001b[32m1\u001b[39m]\n\u001b[32m    376\u001b[39m \u001b[38;5;28;01mif\u001b[39;00m norm_laplacian:\n\u001b[32m    377\u001b[39m     \u001b[38;5;66;03m# recover u = D^-1/2 x from the eigenvector output x\u001b[39;00m\n",
      "\u001b[36mFile \u001b[39m\u001b[32m~/studia/sus/sus1/pysus/lib/python3.12/site-packages/scipy/sparse/linalg/_eigen/arpack/arpack.py:1696\u001b[39m, in \u001b[36meigsh\u001b[39m\u001b[34m(A, k, M, sigma, which, v0, ncv, maxiter, tol, return_eigenvectors, Minv, OPinv, mode)\u001b[39m\n\u001b[32m   1694\u001b[39m \u001b[38;5;28;01mwith\u001b[39;00m _ARPACK_LOCK:\n\u001b[32m   1695\u001b[39m     \u001b[38;5;28;01mwhile\u001b[39;00m \u001b[38;5;129;01mnot\u001b[39;00m params.converged:\n\u001b[32m-> \u001b[39m\u001b[32m1696\u001b[39m         \u001b[43mparams\u001b[49m\u001b[43m.\u001b[49m\u001b[43miterate\u001b[49m\u001b[43m(\u001b[49m\u001b[43m)\u001b[49m\n\u001b[32m   1698\u001b[39m     \u001b[38;5;28;01mreturn\u001b[39;00m params.extract(return_eigenvectors)\n",
      "\u001b[36mFile \u001b[39m\u001b[32m~/studia/sus/sus1/pysus/lib/python3.12/site-packages/scipy/sparse/linalg/_eigen/arpack/arpack.py:565\u001b[39m, in \u001b[36m_SymmetricArpackParams.iterate\u001b[39m\u001b[34m(self)\u001b[39m\n\u001b[32m    563\u001b[39m     \u001b[38;5;28;01melse\u001b[39;00m:\n\u001b[32m    564\u001b[39m         Bxslice = \u001b[38;5;28mslice\u001b[39m(\u001b[38;5;28mself\u001b[39m.ipntr[\u001b[32m2\u001b[39m] - \u001b[32m1\u001b[39m, \u001b[38;5;28mself\u001b[39m.ipntr[\u001b[32m2\u001b[39m] - \u001b[32m1\u001b[39m + \u001b[38;5;28mself\u001b[39m.n)\n\u001b[32m--> \u001b[39m\u001b[32m565\u001b[39m         \u001b[38;5;28mself\u001b[39m.workd[yslice] = \u001b[38;5;28;43mself\u001b[39;49m\u001b[43m.\u001b[49m\u001b[43mOPa\u001b[49m\u001b[43m(\u001b[49m\u001b[38;5;28;43mself\u001b[39;49m\u001b[43m.\u001b[49m\u001b[43mworkd\u001b[49m\u001b[43m[\u001b[49m\u001b[43mBxslice\u001b[49m\u001b[43m]\u001b[49m\u001b[43m)\u001b[49m\n\u001b[32m    566\u001b[39m \u001b[38;5;28;01melif\u001b[39;00m \u001b[38;5;28mself\u001b[39m.ido == \u001b[32m2\u001b[39m:\n\u001b[32m    567\u001b[39m     \u001b[38;5;28mself\u001b[39m.workd[yslice] = \u001b[38;5;28mself\u001b[39m.B(\u001b[38;5;28mself\u001b[39m.workd[xslice])\n",
      "\u001b[36mFile \u001b[39m\u001b[32m~/studia/sus/sus1/pysus/lib/python3.12/site-packages/scipy/sparse/linalg/_interface.py:258\u001b[39m, in \u001b[36mLinearOperator.matvec\u001b[39m\u001b[34m(self, x)\u001b[39m\n\u001b[32m    255\u001b[39m \u001b[38;5;28;01mif\u001b[39;00m x.shape != (N,) \u001b[38;5;129;01mand\u001b[39;00m x.shape != (N,\u001b[32m1\u001b[39m):\n\u001b[32m    256\u001b[39m     \u001b[38;5;28;01mraise\u001b[39;00m \u001b[38;5;167;01mValueError\u001b[39;00m(\u001b[33m'\u001b[39m\u001b[33mdimension mismatch\u001b[39m\u001b[33m'\u001b[39m)\n\u001b[32m--> \u001b[39m\u001b[32m258\u001b[39m y = \u001b[38;5;28;43mself\u001b[39;49m\u001b[43m.\u001b[49m\u001b[43m_matvec\u001b[49m\u001b[43m(\u001b[49m\u001b[43mx\u001b[49m\u001b[43m)\u001b[49m\n\u001b[32m    260\u001b[39m \u001b[38;5;28;01mif\u001b[39;00m \u001b[38;5;28misinstance\u001b[39m(x, np.matrix):\n\u001b[32m    261\u001b[39m     y = asmatrix(y)\n",
      "\u001b[36mFile \u001b[39m\u001b[32m~/studia/sus/sus1/pysus/lib/python3.12/site-packages/scipy/sparse/linalg/_eigen/arpack/arpack.py:942\u001b[39m, in \u001b[36mLuInv._matvec\u001b[39m\u001b[34m(self, x)\u001b[39m\n\u001b[32m    941\u001b[39m \u001b[38;5;28;01mdef\u001b[39;00m\u001b[38;5;250m \u001b[39m\u001b[34m_matvec\u001b[39m(\u001b[38;5;28mself\u001b[39m, x):\n\u001b[32m--> \u001b[39m\u001b[32m942\u001b[39m     \u001b[38;5;28;01mreturn\u001b[39;00m \u001b[43mlu_solve\u001b[49m\u001b[43m(\u001b[49m\u001b[38;5;28;43mself\u001b[39;49m\u001b[43m.\u001b[49m\u001b[43mM_lu\u001b[49m\u001b[43m,\u001b[49m\u001b[43m \u001b[49m\u001b[43mx\u001b[49m\u001b[43m)\u001b[49m\n",
      "\u001b[36mFile \u001b[39m\u001b[32m~/studia/sus/sus1/pysus/lib/python3.12/site-packages/scipy/linalg/_decomp_lu.py:194\u001b[39m, in \u001b[36mlu_solve\u001b[39m\u001b[34m(lu_and_piv, b, trans, overwrite_b, check_finite)\u001b[39m\n\u001b[32m    191\u001b[39m     \u001b[38;5;28;01mreturn\u001b[39;00m np.empty_like(b1, dtype=m.dtype)\n\u001b[32m    193\u001b[39m getrs, = get_lapack_funcs((\u001b[33m'\u001b[39m\u001b[33mgetrs\u001b[39m\u001b[33m'\u001b[39m,), (lu, b1))\n\u001b[32m--> \u001b[39m\u001b[32m194\u001b[39m x, info = \u001b[43mgetrs\u001b[49m\u001b[43m(\u001b[49m\u001b[43mlu\u001b[49m\u001b[43m,\u001b[49m\u001b[43m \u001b[49m\u001b[43mpiv\u001b[49m\u001b[43m,\u001b[49m\u001b[43m \u001b[49m\u001b[43mb1\u001b[49m\u001b[43m,\u001b[49m\u001b[43m \u001b[49m\u001b[43mtrans\u001b[49m\u001b[43m=\u001b[49m\u001b[43mtrans\u001b[49m\u001b[43m,\u001b[49m\u001b[43m \u001b[49m\u001b[43moverwrite_b\u001b[49m\u001b[43m=\u001b[49m\u001b[43moverwrite_b\u001b[49m\u001b[43m)\u001b[49m\n\u001b[32m    195\u001b[39m \u001b[38;5;28;01mif\u001b[39;00m info == \u001b[32m0\u001b[39m:\n\u001b[32m    196\u001b[39m     \u001b[38;5;28;01mreturn\u001b[39;00m x\n",
      "\u001b[31mKeyboardInterrupt\u001b[39m: "
     ]
    }
   ],
   "source": [
    "from sklearn.cluster import SpectralClustering\n",
    "\n",
    "silhouette_scores = []\n",
    "\n",
    "for i in tqdm(range(80, 81)):\n",
    "    sc = SpectralClustering(\n",
    "        n_clusters=i,\n",
    "        affinity='precomputed',\n",
    "        assign_labels='discretize',\n",
    "\n",
    "    )\n",
    "\n",
    "    y = sc.fit_predict(D)\n",
    "    silhouette_scores.append(silhouette_score(X_red, y))\n",
    "\n",
    "print(\"Best silhouette score: \", max(silhouette_scores))\n",
    "print(\"Best number of clusters: \", silhouette_scores.index(max(silhouette_scores)) + 80)\n",
    "plt.plot(range(80, 81), silhouette_scores)\n",
    "plt.title('Silhouette Score vs. Number of Clusters')\n",
    "plt.show()"
   ]
  },
  {
   "cell_type": "code",
   "execution_count": null,
   "id": "05589f34",
   "metadata": {},
   "outputs": [],
   "source": [
    "clusters_to_files(y, image_names)"
   ]
  },
  {
   "cell_type": "code",
   "execution_count": null,
   "id": "1c9bca8d",
   "metadata": {},
   "outputs": [],
   "source": [
    "inertias = []\n",
    "silhouette_scores = []\n",
    "\n",
    "for i in tqdm(range(30, 80)):\n",
    "    km = KMeans(n_clusters=i)\n",
    "    km.fit(X_red)\n",
    "    inertias.append(km.inertia_)\n",
    "    silhouette_scores.append(silhouette_score(X_red, km.labels_))\n",
    "\n",
    "plt.plot(range(30, 80), silhouette_scores)\n",
    "plt.title('Silhouette Score vs. Number of Clusters')\n",
    "plt.show()\n",
    "\n",
    "print(f\"Najlepsza liczba klastrów to {np.argmax(silhouette_scores) + 30} z wynikiem {max(silhouette_scores)}\")\n",
    "\n",
    "km = KMeans(n_clusters=np.argmax(silhouette_scores) + 30)\n",
    "km.fit(X_red)\n",
    "clusters = km.labels_\n",
    "clusters_to_files(clusters, image_names)"
   ]
  },
  {
   "cell_type": "markdown",
   "id": "a042878e",
   "metadata": {},
   "source": [
    "No dobra spróbujmy znaleźć jakąś klasteryzację.\n",
    "\n",
    "TODO: żeby sprawdzac poprawnosc tego gowna przyda sie pewnie zrobic jakis weryfikator ygh ygh."
   ]
  },
  {
   "cell_type": "code",
   "execution_count": null,
   "id": "958b6563",
   "metadata": {},
   "outputs": [],
   "source": [
    "plt.plot(range(10, 100), silhouette_scores)\n",
    "plt.title('Silhouette Score vs. Number of Clusters')\n",
    "print(f\"Najlepsza liczba klastrów to {np.argmax(silhouette_scores) + 10} z wynikiem {max(silhouette_scores)}\")"
   ]
  },
  {
   "cell_type": "code",
   "execution_count": null,
   "id": "e7d81282",
   "metadata": {},
   "outputs": [],
   "source": [
    "ag = AgglomerativeClustering(n_clusters=np.argmax(silhouette_scores) + 10, linkage=linkages[0])\n",
    "ag.fit(X_red)\n",
    "clusters = ag.labels_\n",
    "clusters_to_files(clusters, image_names)"
   ]
  },
  {
   "cell_type": "code",
   "execution_count": null,
   "id": "0fde56d2",
   "metadata": {},
   "outputs": [],
   "source": [
    "silhouette_scores = []\n",
    "num_clusters = []\n",
    "\n",
    "l = 0\n",
    "\n",
    "for i in tqdm(np.arange(0.1, 10, 0.1)):\n",
    "    l += 1\n",
    "    dbs = DBSCAN(eps=i, min_samples=1)\n",
    "    y = dbs.fit_predict(X_red)\n",
    "    silhouette_scores.append(silhouette_score(X_red, y))\n",
    "    num_clusters.append(len(set(y)))"
   ]
  },
  {
   "cell_type": "code",
   "execution_count": null,
   "id": "4cf492d2",
   "metadata": {},
   "outputs": [],
   "source": [
    "print(l)\n",
    "plt.plot(range(0, l), silhouette_scores)\n",
    "plt.title('Silhouette Score vs. min_samples')\n",
    "print(f\"Najlepsza liczba klastrów to {num_clusters[np.argmax(silhouette_scores)]} z wynikiem {max(silhouette_scores)}\")"
   ]
  },
  {
   "cell_type": "code",
   "execution_count": null,
   "id": "f5600dbe",
   "metadata": {},
   "outputs": [],
   "source": [
    "import torch\n",
    "\n",
    "class AutoEncoder(torch.nn.Module):\n",
    "    def __init__(self, input_size, hidden_size):\n",
    "        super().__init__()\n",
    "        self.encoder = torch.nn.Sequential(\n",
    "            torch.nn.Linear(input_size, hidden_size),\n",
    "            torch.nn.SiLU(),\n",
    "\n",
    "            torch.nn.Linear(hidden_size, hidden_size),\n",
    "            torch.nn.SiLU()\n",
    "        )\n",
    "\n",
    "        self.decoder = torch.nn.Sequential(\n",
    "            torch.nn.Linear(hidden_size, hidden_size),\n",
    "            torch.nn.SiLU(),\n",
    "            torch.nn.Linear(hidden_size, input_size),\n",
    "            torch.nn.Sigmoid()\n",
    "        )\n",
    "    \n",
    "    def forward(self, x):\n",
    "        x = self.encoder(x)\n",
    "        x = self.decoder(x)\n",
    "        return x\n",
    "    \n",
    "    @torch.no_grad()\n",
    "    def encode(self, x):\n",
    "        x = self.encoder(x)\n",
    "        return x\n"
   ]
  },
  {
   "cell_type": "code",
   "execution_count": null,
   "id": "3b62b0e4",
   "metadata": {},
   "outputs": [],
   "source": [
    "X_tensor = torch.tensor(np.vstack(X), dtype=torch.float32)\n"
   ]
  },
  {
   "cell_type": "code",
   "execution_count": null,
   "id": "a55c9f55",
   "metadata": {},
   "outputs": [],
   "source": [
    "model = AutoEncoder(input_size=X_tensor.shape[1], hidden_size=20)\n",
    "optimizer = torch.optim.Adam(model.parameters(), lr=0.001)\n",
    "loss_fn = torch.nn.MSELoss()\n",
    "epochs = 100\n",
    "\n",
    "for epoch in tqdm(range(epochs)):\n",
    "    optimizer.zero_grad()\n",
    "    output = model(X_tensor)\n",
    "    loss = loss_fn(output, X_tensor)\n",
    "    loss.backward()\n",
    "    optimizer.step()\n",
    "\n",
    "print(loss.item())"
   ]
  },
  {
   "cell_type": "code",
   "execution_count": null,
   "id": "1bee5afd",
   "metadata": {},
   "outputs": [],
   "source": [
    "X_red = model.encode(X_tensor).detach().numpy()"
   ]
  },
  {
   "cell_type": "code",
   "execution_count": null,
   "id": "c988571f",
   "metadata": {},
   "outputs": [],
   "source": [
    "X_red"
   ]
  },
  {
   "cell_type": "code",
   "execution_count": null,
   "id": "63b1c288",
   "metadata": {},
   "outputs": [],
   "source": [
    "# max_x, max_y = 100, 40\n",
    "def parse_img(filename):\n",
    "    image = Image.open(filename).convert('L')\n",
    "    image = np.array(ImageOps.invert(image)) # I want white pixels to be 0 and black pixels to be 255\n",
    "    image = np.pad(\n",
    "        image,\n",
    "        ((0, max_x - image.shape[0]), (0, max_y - image.shape[1])),\n",
    "        mode='constant',\n",
    "        constant_values=0\n",
    "    )\n",
    "    return image.flatten().astype(np.float32)\n",
    "        \n",
    "    \n",
    "\n",
    "\n",
    "\n",
    "# Będę nakładał x1 na x2 (trochę jak sliding window) \n",
    "# i liczył w kazdym punkcie abs(x1_ij - x2_ij).\n",
    "# Wynik to minimalna odległość pomiędzy x1 i x2.\n",
    "def metric(x1, x2, swp=False):\n",
    "    # x1 = x1.reshape(max_x, max_y)\n",
    "    # x2 = x2.reshape(max_x, max_y)\n",
    "    # dist = np.float32(1000000000)\n",
    "    # for i in range(10):\n",
    "    #     for j in range(10):\n",
    "    #         shifted = np.zeros_like(x1)\n",
    "    # shifted[i:, j:] = x1[:max_x - i, :max_y - j]\n",
    "    d = np.sum(np.square(x1 - x2)) / np.sum(np.maximum(x1, x2))\n",
    "    # dist = np.min([dist, d])\n",
    "    \n",
    "    # if swp:\n",
    "    return d\n",
    "    # else:\n",
    "    #     return min(dist, metric(x2, x1, True))\n",
    "    \n",
    "def Metric(X):\n",
    "    n, _ = X.shape\n",
    "    dist = np.zeros((n, n), dtype=np.float32)\n",
    "    for i in tqdm(range(n)):\n",
    "        for j in range(i + 1, n):\n",
    "            dist[i, j] = metric(X[i], X[j])\n",
    "            dist[j, i] = dist[i, j]\n",
    "    return dist"
   ]
  },
  {
   "cell_type": "code",
   "execution_count": null,
   "id": "fe520cd3",
   "metadata": {},
   "outputs": [],
   "source": [
    "import random\n",
    "\n",
    "X = [\n",
    "    parse_img('./training_samples/' + filename)\n",
    "    for filename in os.listdir('./training_samples')\n",
    "]\n",
    "\n",
    "sample = random.sample(list(zip(X, image_names)), 2000)\n",
    "X_s, names_s = zip(*sample)\n",
    "\n",
    "\n",
    "ag = AgglomerativeClustering(n_clusters=100, metric=Metric, linkage='average')\n",
    "ag.fit(X_s)\n",
    "\n",
    "print(\"Silhouette score:\", silhouette_score(X_s, ag.labels_))\n",
    "clusters = ag.labels_\n",
    "clusters_to_files(clusters, names_s)"
   ]
  }
 ],
 "metadata": {
  "kernelspec": {
   "display_name": "pysus",
   "language": "python",
   "name": "python3"
  },
  "language_info": {
   "codemirror_mode": {
    "name": "ipython",
    "version": 3
   },
   "file_extension": ".py",
   "mimetype": "text/x-python",
   "name": "python",
   "nbconvert_exporter": "python",
   "pygments_lexer": "ipython3",
   "version": "3.12.3"
  }
 },
 "nbformat": 4,
 "nbformat_minor": 5
}
